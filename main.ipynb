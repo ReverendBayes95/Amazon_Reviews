{
 "cells": [
  {
   "cell_type": "markdown",
   "id": "a8f80160",
   "metadata": {},
   "source": [
    "## Import libraries"
   ]
  },
  {
   "cell_type": "code",
   "execution_count": 1,
   "id": "4350c60d",
   "metadata": {},
   "outputs": [
    {
     "name": "stderr",
     "output_type": "stream",
     "text": [
      "c:\\Users\\aksha\\Repositories\\Amazon_Reviews\\.venv\\Lib\\site-packages\\tqdm\\auto.py:21: TqdmWarning: IProgress not found. Please update jupyter and ipywidgets. See https://ipywidgets.readthedocs.io/en/stable/user_install.html\n",
      "  from .autonotebook import tqdm as notebook_tqdm\n"
     ]
    }
   ],
   "source": [
    "import utils.data_io as data_io\n",
    "import utils.filters as filters\n",
    "import utils.aggregations as aggregations\n",
    "import utils.models as models   \n",
    "import variables\n",
    "import torch "
   ]
  },
  {
   "cell_type": "markdown",
   "id": "94546393",
   "metadata": {},
   "source": [
    "## Read the reviews data"
   ]
  },
  {
   "cell_type": "code",
   "execution_count": 2,
   "id": "491604df",
   "metadata": {},
   "outputs": [],
   "source": [
    "colnames = ['polarity', 'title', 'text']\n",
    "train_df = data_io.read_reviews(\"C:/Users/aksha/Repositories/Amazon_Reviews/data/archive/train.csv\", colnames)\n",
    "test_df = data_io.read_reviews(\"C:/Users/aksha/Repositories/Amazon_Reviews/data/archive/test.csv\", colnames)"
   ]
  },
  {
   "cell_type": "code",
   "execution_count": null,
   "id": "206d73fc",
   "metadata": {},
   "outputs": [
    {
     "data": {
      "text/html": [
       "<div>\n",
       "<style scoped>\n",
       "    .dataframe tbody tr th:only-of-type {\n",
       "        vertical-align: middle;\n",
       "    }\n",
       "\n",
       "    .dataframe tbody tr th {\n",
       "        vertical-align: top;\n",
       "    }\n",
       "\n",
       "    .dataframe thead th {\n",
       "        text-align: right;\n",
       "    }\n",
       "</style>\n",
       "<table border=\"1\" class=\"dataframe\">\n",
       "  <thead>\n",
       "    <tr style=\"text-align: right;\">\n",
       "      <th></th>\n",
       "      <th>polarity</th>\n",
       "      <th>title</th>\n",
       "      <th>text</th>\n",
       "    </tr>\n",
       "  </thead>\n",
       "  <tbody>\n",
       "    <tr>\n",
       "      <th>0</th>\n",
       "      <td>2</td>\n",
       "      <td>Stuning even for the non-gamer</td>\n",
       "      <td>This sound track was beautiful! It paints the ...</td>\n",
       "    </tr>\n",
       "    <tr>\n",
       "      <th>1</th>\n",
       "      <td>2</td>\n",
       "      <td>The best soundtrack ever to anything.</td>\n",
       "      <td>I'm reading a lot of reviews saying that this ...</td>\n",
       "    </tr>\n",
       "    <tr>\n",
       "      <th>2</th>\n",
       "      <td>2</td>\n",
       "      <td>Amazing!</td>\n",
       "      <td>This soundtrack is my favorite music of all ti...</td>\n",
       "    </tr>\n",
       "    <tr>\n",
       "      <th>3</th>\n",
       "      <td>2</td>\n",
       "      <td>Excellent Soundtrack</td>\n",
       "      <td>I truly like this soundtrack and I enjoy video...</td>\n",
       "    </tr>\n",
       "    <tr>\n",
       "      <th>4</th>\n",
       "      <td>2</td>\n",
       "      <td>Remember, Pull Your Jaw Off The Floor After He...</td>\n",
       "      <td>If you've played the game, you know how divine...</td>\n",
       "    </tr>\n",
       "    <tr>\n",
       "      <th>...</th>\n",
       "      <td>...</td>\n",
       "      <td>...</td>\n",
       "      <td>...</td>\n",
       "    </tr>\n",
       "    <tr>\n",
       "      <th>3599995</th>\n",
       "      <td>1</td>\n",
       "      <td>Don't do it!!</td>\n",
       "      <td>The high chair looks great when it first comes...</td>\n",
       "    </tr>\n",
       "    <tr>\n",
       "      <th>3599996</th>\n",
       "      <td>1</td>\n",
       "      <td>Looks nice, low functionality</td>\n",
       "      <td>I have used this highchair for 2 kids now and ...</td>\n",
       "    </tr>\n",
       "    <tr>\n",
       "      <th>3599997</th>\n",
       "      <td>1</td>\n",
       "      <td>compact, but hard to clean</td>\n",
       "      <td>We have a small house, and really wanted two o...</td>\n",
       "    </tr>\n",
       "    <tr>\n",
       "      <th>3599998</th>\n",
       "      <td>1</td>\n",
       "      <td>what is it saying?</td>\n",
       "      <td>not sure what this book is supposed to be. It ...</td>\n",
       "    </tr>\n",
       "    <tr>\n",
       "      <th>3599999</th>\n",
       "      <td>2</td>\n",
       "      <td>Makes My Blood Run Red-White-And-Blue</td>\n",
       "      <td>I agree that every American should read this b...</td>\n",
       "    </tr>\n",
       "  </tbody>\n",
       "</table>\n",
       "<p>3600000 rows × 3 columns</p>\n",
       "</div>"
      ],
      "text/plain": [
       "         polarity                                              title  \\\n",
       "0               2                     Stuning even for the non-gamer   \n",
       "1               2              The best soundtrack ever to anything.   \n",
       "2               2                                           Amazing!   \n",
       "3               2                               Excellent Soundtrack   \n",
       "4               2  Remember, Pull Your Jaw Off The Floor After He...   \n",
       "...           ...                                                ...   \n",
       "3599995         1                                      Don't do it!!   \n",
       "3599996         1                      Looks nice, low functionality   \n",
       "3599997         1                         compact, but hard to clean   \n",
       "3599998         1                                 what is it saying?   \n",
       "3599999         2              Makes My Blood Run Red-White-And-Blue   \n",
       "\n",
       "                                                      text  \n",
       "0        This sound track was beautiful! It paints the ...  \n",
       "1        I'm reading a lot of reviews saying that this ...  \n",
       "2        This soundtrack is my favorite music of all ti...  \n",
       "3        I truly like this soundtrack and I enjoy video...  \n",
       "4        If you've played the game, you know how divine...  \n",
       "...                                                    ...  \n",
       "3599995  The high chair looks great when it first comes...  \n",
       "3599996  I have used this highchair for 2 kids now and ...  \n",
       "3599997  We have a small house, and really wanted two o...  \n",
       "3599998  not sure what this book is supposed to be. It ...  \n",
       "3599999  I agree that every American should read this b...  \n",
       "\n",
       "[3600000 rows x 3 columns]"
      ]
     },
     "execution_count": 3,
     "metadata": {},
     "output_type": "execute_result"
    }
   ],
   "source": [
    "train = aggregations.stratified_sample(train_df, 'polarity', 100000)\n",
    "test = aggregations.stratified_sample(test_df, 'polarity', 100000)\n",
    "\n",
    "del train_df, test_df"
   ]
  },
  {
   "cell_type": "code",
   "execution_count": 6,
   "id": "bafa664d",
   "metadata": {},
   "outputs": [
    {
     "data": {
      "text/plain": [
       "0          this sound track was beautiful! it paints the ...\n",
       "1          i'm reading a lot of reviews saying that this ...\n",
       "2          this soundtrack is my favorite music of all ti...\n",
       "3          i truly like this soundtrack and i enjoy video...\n",
       "4          if you've played the game, you know how divine...\n",
       "                                 ...                        \n",
       "3599995    the high chair looks great when it first comes...\n",
       "3599996    i have used this highchair for 2 kids now and ...\n",
       "3599997    we have a small house, and really wanted two o...\n",
       "3599998    not sure what this book is supposed to be. it ...\n",
       "3599999    i agree that every american should read this b...\n",
       "Name: text, Length: 3600000, dtype: object"
      ]
     },
     "execution_count": 6,
     "metadata": {},
     "output_type": "execute_result"
    }
   ],
   "source": [
    "train_df"
   ]
  },
  {
   "cell_type": "markdown",
   "id": "6f1ebbf8",
   "metadata": {},
   "source": [
    "## Pre-process the reviews"
   ]
  },
  {
   "cell_type": "code",
   "execution_count": null,
   "id": "f85cec49",
   "metadata": {},
   "outputs": [
    {
     "name": "stderr",
     "output_type": "stream",
     "text": [
      "c:\\Users\\aksha\\Repositories\\Amazon_Reviews\\utils\\filters.py:19: SettingWithCopyWarning: \n",
      "A value is trying to be set on a copy of a slice from a DataFrame.\n",
      "Try using .loc[row_indexer,col_indexer] = value instead\n",
      "\n",
      "See the caveats in the documentation: https://pandas.pydata.org/pandas-docs/stable/user_guide/indexing.html#returning-a-view-versus-a-copy\n",
      "  self.amazon_reviews['title'] = self.amazon_reviews['title'].apply(lambda s: s.lower())\n",
      "c:\\Users\\aksha\\Repositories\\Amazon_Reviews\\utils\\filters.py:20: SettingWithCopyWarning: \n",
      "A value is trying to be set on a copy of a slice from a DataFrame.\n",
      "Try using .loc[row_indexer,col_indexer] = value instead\n",
      "\n",
      "See the caveats in the documentation: https://pandas.pydata.org/pandas-docs/stable/user_guide/indexing.html#returning-a-view-versus-a-copy\n",
      "  self.amazon_reviews['text'] = self.amazon_reviews['text'].apply(lambda s: s.lower())\n",
      "c:\\Users\\aksha\\Repositories\\Amazon_Reviews\\utils\\filters.py:25: SettingWithCopyWarning: \n",
      "A value is trying to be set on a copy of a slice from a DataFrame.\n",
      "Try using .loc[row_indexer,col_indexer] = value instead\n",
      "\n",
      "See the caveats in the documentation: https://pandas.pydata.org/pandas-docs/stable/user_guide/indexing.html#returning-a-view-versus-a-copy\n",
      "  self.amazon_reviews['title'] =  self.amazon_reviews['title'].apply(lambda s: re.sub(r'https?:\\/\\/\\S+', '', s))\n",
      "c:\\Users\\aksha\\Repositories\\Amazon_Reviews\\utils\\filters.py:26: SettingWithCopyWarning: \n",
      "A value is trying to be set on a copy of a slice from a DataFrame.\n",
      "Try using .loc[row_indexer,col_indexer] = value instead\n",
      "\n",
      "See the caveats in the documentation: https://pandas.pydata.org/pandas-docs/stable/user_guide/indexing.html#returning-a-view-versus-a-copy\n",
      "  self.amazon_reviews['text'] =  self.amazon_reviews['text'].apply(lambda s: re.sub(r'https?:\\/\\/\\S+', '', s))\n",
      "c:\\Users\\aksha\\Repositories\\Amazon_Reviews\\utils\\filters.py:38: SettingWithCopyWarning: \n",
      "A value is trying to be set on a copy of a slice from a DataFrame.\n",
      "Try using .loc[row_indexer,col_indexer] = value instead\n",
      "\n",
      "See the caveats in the documentation: https://pandas.pydata.org/pandas-docs/stable/user_guide/indexing.html#returning-a-view-versus-a-copy\n",
      "  self.amazon_reviews['title'] = self.amazon_reviews['title'].apply(lambda s: negation_helper(s, self.appos))\n",
      "c:\\Users\\aksha\\Repositories\\Amazon_Reviews\\utils\\filters.py:39: SettingWithCopyWarning: \n",
      "A value is trying to be set on a copy of a slice from a DataFrame.\n",
      "Try using .loc[row_indexer,col_indexer] = value instead\n",
      "\n",
      "See the caveats in the documentation: https://pandas.pydata.org/pandas-docs/stable/user_guide/indexing.html#returning-a-view-versus-a-copy\n",
      "  self.amazon_reviews['text'] = self.amazon_reviews['text'].apply(lambda s: negation_helper(s, self.appos))\n"
     ]
    }
   ],
   "source": [
    "train_pre_process = filters.TextPreProcess(train, variables.appos)\n",
    "test_pre_process = filters.TextPreProcess(test, variables.appos)\n",
    "train = train_pre_process.apply_text_filtering()\n",
    "test = test_pre_process.apply_text_filtering()\n",
    "\n",
    "train = aggregations.create_single_review(train)\n",
    "test = aggregations.create_single_review(test)"
   ]
  },
  {
   "cell_type": "markdown",
   "id": "29b40d51",
   "metadata": {},
   "source": [
    "## Predict the sentiment\n",
    "\n",
    "### With transformers pipelines module"
   ]
  },
  {
   "cell_type": "code",
   "execution_count": null,
   "id": "08f34a62",
   "metadata": {},
   "outputs": [
    {
     "name": "stderr",
     "output_type": "stream",
     "text": [
      "No model was supplied, defaulted to distilbert/distilbert-base-uncased-finetuned-sst-2-english and revision 714eb0f (https://huggingface.co/distilbert/distilbert-base-uncased-finetuned-sst-2-english).\n",
      "Using a pipeline without specifying a model name and revision in production is not recommended.\n",
      "Device set to use cuda:0\n"
     ]
    }
   ],
   "source": [
    "# from transformers import pipeline\n",
    "# classifier = pipeline(\"text-classification\")\n",
    "# pipeline_preds = classifier(test_df['review'].tolist())\n",
    "\n",
    "pipeline_preds = models.hf_classification_pipeline(test_df)"
   ]
  },
  {
   "cell_type": "code",
   "execution_count": null,
   "id": "401f2417",
   "metadata": {},
   "outputs": [],
   "source": []
  }
 ],
 "metadata": {
  "kernelspec": {
   "display_name": "amazon-reviews-py3.12",
   "language": "python",
   "name": "python3"
  },
  "language_info": {
   "codemirror_mode": {
    "name": "ipython",
    "version": 3
   },
   "file_extension": ".py",
   "mimetype": "text/x-python",
   "name": "python",
   "nbconvert_exporter": "python",
   "pygments_lexer": "ipython3",
   "version": "3.12.3"
  }
 },
 "nbformat": 4,
 "nbformat_minor": 5
}
